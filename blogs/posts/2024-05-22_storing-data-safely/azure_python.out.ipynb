{
  "cells": [
    {
      "cell_type": "markdown",
      "metadata": {},
      "source": [
        "#"
      ],
      "id": "d7bfd030-a5fb-481c-93d6-f9505fa559bf"
    },
    {
      "cell_type": "code",
      "execution_count": 1,
      "metadata": {},
      "outputs": [],
      "source": [
        "import os\n",
        "import io\n",
        "import pandas as pd\n",
        "from dotenv import load_dotenv\n",
        "from azure.identity import DefaultAzureCredential\n",
        "from azure.storage.blob import ContainerClient"
      ],
      "id": "cell-0"
    },
    {
      "cell_type": "code",
      "execution_count": 2,
      "metadata": {},
      "outputs": [],
      "source": [
        "# Load all environment variables\n",
        "load_dotenv()\n",
        "account_url = os.getenv('AZ_STORAGE_EP')\n",
        "container_name = os.getenv('AZ_STORAGE_CONTAINER')"
      ],
      "id": "cell-1"
    },
    {
      "cell_type": "code",
      "execution_count": 3,
      "metadata": {},
      "outputs": [],
      "source": [
        "# Authenticate\n",
        "default_credential = DefaultAzureCredential()"
      ],
      "id": "cell-2"
    },
    {
      "cell_type": "markdown",
      "metadata": {},
      "source": [
        "For the first time, you might need to authenticate via the Azure CLI\n",
        "\n",
        "Download it from\n",
        "https://learn.microsoft.com/en-us/cli/azure/install-azure-cli-windows?tabs=azure-cli\n",
        "\n",
        "Install then run `az login` in your terminal. Once you have logged in\n",
        "with your browser try the `DefaultAzureCredential()` again!"
      ],
      "id": "012f52c6-d26a-4af0-8941-f51d61c47c04"
    },
    {
      "cell_type": "code",
      "execution_count": 4,
      "metadata": {},
      "outputs": [],
      "source": [
        "# Connect to container\n",
        "container_client = ContainerClient(account_url, container_name, default_credential)"
      ],
      "id": "cell-4"
    },
    {
      "cell_type": "code",
      "execution_count": 5,
      "metadata": {},
      "outputs": [
        {
          "output_type": "stream",
          "name": "stdout",
          "text": [
            "newdir/cats.parquet\n",
            "newdir/ronald.jpeg"
          ]
        }
      ],
      "source": [
        "# List files in container - should be empty\n",
        "blob_list = container_client.list_blob_names()\n",
        "for blob in blob_list:\n",
        "    if blob.startswith('newdir'):\n",
        "        print(blob)"
      ],
      "id": "cell-5"
    },
    {
      "cell_type": "code",
      "execution_count": 6,
      "metadata": {},
      "outputs": [],
      "source": [
        "# Upload file to container\n",
        "with open(file='data/cats.csv', mode=\"rb\") as data:\n",
        "    blob_client = container_client.upload_blob(name='newdir/cats.csv', \n",
        "                                               data=data, \n",
        "                                               overwrite=True)"
      ],
      "id": "cell-6"
    },
    {
      "cell_type": "code",
      "execution_count": 7,
      "metadata": {},
      "outputs": [
        {
          "output_type": "stream",
          "name": "stdout",
          "text": [
            "newdir/cats.csv\n",
            "newdir/cats.parquet\n",
            "newdir/ronald.jpeg"
          ]
        }
      ],
      "source": [
        "# # Check files have uploaded - List files in container again\n",
        "blob_list = container_client.list_blobs()\n",
        "for blob in blob_list:\n",
        "    if blob['name'].startswith('newdir'):\n",
        "        print(blob['name'])"
      ],
      "id": "cell-7"
    },
    {
      "cell_type": "code",
      "execution_count": 8,
      "metadata": {},
      "outputs": [
        {
          "output_type": "display_data",
          "metadata": {},
          "data": {
            "text/html": [
              "\n",
              "</div>"
            ]
          }
        }
      ],
      "source": [
        "# Download file from Azure container to temporary filepath\n",
        "\n",
        "# Connect to blob\n",
        "blob_client = container_client.get_blob_client('newdir/cats.csv')\n",
        "\n",
        "# Write to local file from blob\n",
        "temp_filepath = os.path.join('temp_data', 'cats.csv')\n",
        "with open(file=temp_filepath, mode=\"wb\") as sample_blob:\n",
        "    download_stream = blob_client.download_blob()\n",
        "    sample_blob.write(download_stream.readall())\n",
        "cat_data = pd.read_csv(temp_filepath)\n",
        "cat_data.head()"
      ],
      "id": "cell-8"
    },
    {
      "cell_type": "code",
      "execution_count": 9,
      "metadata": {},
      "outputs": [
        {
          "output_type": "display_data",
          "metadata": {},
          "data": {
            "text/html": [
              "\n",
              "</div>"
            ]
          }
        }
      ],
      "source": [
        "# Load directly from Azure - no local copy\n",
        "\n",
        "download_stream = blob_client.download_blob()\n",
        "stream_object = io.BytesIO(download_stream.readall())\n",
        "cat_data = pd.read_csv(stream_object)\n",
        "cat_data"
      ],
      "id": "cell-9"
    },
    {
      "cell_type": "code",
      "execution_count": 10,
      "metadata": {},
      "outputs": [],
      "source": [
        "# !!!!!!!!! Delete from Azure container !!!!!!!!!\n",
        "blob_client = container_client.get_blob_client('newdir/cats.csv')\n",
        "blob_client.delete_blob()"
      ],
      "id": "cell-10"
    },
    {
      "cell_type": "code",
      "execution_count": 11,
      "metadata": {},
      "outputs": [
        {
          "output_type": "stream",
          "name": "stdout",
          "text": [
            "newdir/cats.parquet\n",
            "newdir/ronald.jpeg"
          ]
        }
      ],
      "source": [
        "blob_list = container_client.list_blobs()\n",
        "for blob in blob_list:\n",
        "    if blob['name'].startswith('newdir'):\n",
        "        print(blob['name'])"
      ],
      "id": "cell-11"
    }
  ],
  "nbformat": 4,
  "nbformat_minor": 5,
  "metadata": {
    "kernelspec": {
      "name": "python3",
      "display_name": "base",
      "language": "python"
    },
    "language_info": {
      "name": "python",
      "codemirror_mode": {
        "name": "ipython",
        "version": "3"
      },
      "file_extension": ".py",
      "mimetype": "text/x-python",
      "nbconvert_exporter": "python",
      "pygments_lexer": "ipython3",
      "version": "3.12.2"
    }
  }
}